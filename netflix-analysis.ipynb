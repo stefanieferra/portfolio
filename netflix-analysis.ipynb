{
 "cells": [
  {
   "cell_type": "markdown",
   "id": "2162052f",
   "metadata": {
    "papermill": {
     "duration": 0.007537,
     "end_time": "2024-10-20T09:29:45.017879",
     "exception": false,
     "start_time": "2024-10-20T09:29:45.010342",
     "status": "completed"
    },
    "tags": []
   },
   "source": [
    "<h1 align=center>Netflix Exploratory Data Analysis</h1>"
   ]
  },
  {
   "cell_type": "markdown",
   "id": "ba1fafd9",
   "metadata": {
    "papermill": {
     "duration": 0.00524,
     "end_time": "2024-10-20T09:29:45.029888",
     "exception": false,
     "start_time": "2024-10-20T09:29:45.024648",
     "status": "completed"
    },
    "tags": []
   },
   "source": [
    "![](https://upload.wikimedia.org/wikipedia/commons/thumb/6/69/Netflix_logo.svg/2560px-Netflix_logo.svg.png)"
   ]
  },
  {
   "cell_type": "markdown",
   "id": "7c8255b3",
   "metadata": {
    "papermill": {
     "duration": 0.005373,
     "end_time": "2024-10-20T09:29:45.041388",
     "exception": false,
     "start_time": "2024-10-20T09:29:45.036015",
     "status": "completed"
    },
    "tags": []
   },
   "source": [
    "### Libraries"
   ]
  },
  {
   "cell_type": "code",
   "execution_count": 1,
   "id": "9431454f",
   "metadata": {
    "_cell_guid": "b1076dfc-b9ad-4769-8c92-a6c4dae69d19",
    "_uuid": "8f2839f25d086af736a60e9eeb907d3b93b6e0e5",
    "execution": {
     "iopub.execute_input": "2024-10-20T09:29:45.054527Z",
     "iopub.status.busy": "2024-10-20T09:29:45.053980Z",
     "iopub.status.idle": "2024-10-20T09:29:47.774255Z",
     "shell.execute_reply": "2024-10-20T09:29:47.772685Z"
    },
    "papermill": {
     "duration": 2.729923,
     "end_time": "2024-10-20T09:29:47.776823",
     "exception": false,
     "start_time": "2024-10-20T09:29:45.046900",
     "status": "completed"
    },
    "tags": []
   },
   "outputs": [
    {
     "name": "stdout",
     "output_type": "stream",
     "text": [
      "/kaggle/input/netflix-shows/netflix_titles.csv\n"
     ]
    }
   ],
   "source": [
    "# This Python 3 environment comes with many helpful analytics libraries installed\n",
    "# It is defined by the kaggle/python Docker image: https://github.com/kaggle/docker-python\n",
    "# For example, here's several helpful packages to load\n",
    "\n",
    "import numpy as np # linear algebra\n",
    "import pandas as pd # data processing, CSV file I/O (e.g. pd.read_csv)\n",
    "import matplotlib.pyplot as plt\n",
    "import seaborn as sns\n",
    "import datetime as dt\n",
    "\n",
    "# Input data files are available in the read-only \"../input/\" directory\n",
    "# For example, running this (by clicking run or pressing Shift+Enter) will list all files under the input directory\n",
    "\n",
    "import os\n",
    "for dirname, _, filenames in os.walk('/kaggle/input'):\n",
    "    for filename in filenames:\n",
    "        print(os.path.join(dirname, filename))\n",
    "\n",
    "# You can write up to 20GB to the current directory (/kaggle/working/) that gets preserved as output when you create a version using \"Save & Run All\" \n",
    "# You can also write temporary files to /kaggle/temp/, but they won't be saved outside of the current session"
   ]
  },
  {
   "cell_type": "markdown",
   "id": "ca24f7a2",
   "metadata": {
    "papermill": {
     "duration": 0.005256,
     "end_time": "2024-10-20T09:29:47.787986",
     "exception": false,
     "start_time": "2024-10-20T09:29:47.782730",
     "status": "completed"
    },
    "tags": []
   },
   "source": [
    "### Reading Data"
   ]
  },
  {
   "cell_type": "code",
   "execution_count": 2,
   "id": "1d55d917",
   "metadata": {
    "execution": {
     "iopub.execute_input": "2024-10-20T09:29:47.802130Z",
     "iopub.status.busy": "2024-10-20T09:29:47.801541Z",
     "iopub.status.idle": "2024-10-20T09:29:47.936300Z",
     "shell.execute_reply": "2024-10-20T09:29:47.935039Z"
    },
    "papermill": {
     "duration": 0.145534,
     "end_time": "2024-10-20T09:29:47.938955",
     "exception": false,
     "start_time": "2024-10-20T09:29:47.793421",
     "status": "completed"
    },
    "tags": []
   },
   "outputs": [],
   "source": [
    "df = pd.read_csv(\"/kaggle/input/netflix-shows/netflix_titles.csv\")"
   ]
  },
  {
   "cell_type": "markdown",
   "id": "9c482591",
   "metadata": {
    "papermill": {
     "duration": 0.005385,
     "end_time": "2024-10-20T09:29:47.950351",
     "exception": false,
     "start_time": "2024-10-20T09:29:47.944966",
     "status": "completed"
    },
    "tags": []
   },
   "source": [
    "## Exploratory Data Analysis"
   ]
  },
  {
   "cell_type": "code",
   "execution_count": 3,
   "id": "d90737a1",
   "metadata": {
    "execution": {
     "iopub.execute_input": "2024-10-20T09:29:47.963364Z",
     "iopub.status.busy": "2024-10-20T09:29:47.962936Z",
     "iopub.status.idle": "2024-10-20T09:29:47.990285Z",
     "shell.execute_reply": "2024-10-20T09:29:47.988654Z"
    },
    "papermill": {
     "duration": 0.037885,
     "end_time": "2024-10-20T09:29:47.993947",
     "exception": false,
     "start_time": "2024-10-20T09:29:47.956062",
     "status": "completed"
    },
    "tags": []
   },
   "outputs": [
    {
     "data": {
      "text/html": [
       "<div>\n",
       "<style scoped>\n",
       "    .dataframe tbody tr th:only-of-type {\n",
       "        vertical-align: middle;\n",
       "    }\n",
       "\n",
       "    .dataframe tbody tr th {\n",
       "        vertical-align: top;\n",
       "    }\n",
       "\n",
       "    .dataframe thead th {\n",
       "        text-align: right;\n",
       "    }\n",
       "</style>\n",
       "<table border=\"1\" class=\"dataframe\">\n",
       "  <thead>\n",
       "    <tr style=\"text-align: right;\">\n",
       "      <th></th>\n",
       "      <th>show_id</th>\n",
       "      <th>type</th>\n",
       "      <th>title</th>\n",
       "      <th>director</th>\n",
       "      <th>cast</th>\n",
       "      <th>country</th>\n",
       "      <th>date_added</th>\n",
       "      <th>release_year</th>\n",
       "      <th>rating</th>\n",
       "      <th>duration</th>\n",
       "      <th>listed_in</th>\n",
       "      <th>description</th>\n",
       "    </tr>\n",
       "  </thead>\n",
       "  <tbody>\n",
       "    <tr>\n",
       "      <th>0</th>\n",
       "      <td>s1</td>\n",
       "      <td>Movie</td>\n",
       "      <td>Dick Johnson Is Dead</td>\n",
       "      <td>Kirsten Johnson</td>\n",
       "      <td>NaN</td>\n",
       "      <td>United States</td>\n",
       "      <td>September 25, 2021</td>\n",
       "      <td>2020</td>\n",
       "      <td>PG-13</td>\n",
       "      <td>90 min</td>\n",
       "      <td>Documentaries</td>\n",
       "      <td>As her father nears the end of his life, filmm...</td>\n",
       "    </tr>\n",
       "    <tr>\n",
       "      <th>1</th>\n",
       "      <td>s2</td>\n",
       "      <td>TV Show</td>\n",
       "      <td>Blood &amp; Water</td>\n",
       "      <td>NaN</td>\n",
       "      <td>Ama Qamata, Khosi Ngema, Gail Mabalane, Thaban...</td>\n",
       "      <td>South Africa</td>\n",
       "      <td>September 24, 2021</td>\n",
       "      <td>2021</td>\n",
       "      <td>TV-MA</td>\n",
       "      <td>2 Seasons</td>\n",
       "      <td>International TV Shows, TV Dramas, TV Mysteries</td>\n",
       "      <td>After crossing paths at a party, a Cape Town t...</td>\n",
       "    </tr>\n",
       "    <tr>\n",
       "      <th>2</th>\n",
       "      <td>s3</td>\n",
       "      <td>TV Show</td>\n",
       "      <td>Ganglands</td>\n",
       "      <td>Julien Leclercq</td>\n",
       "      <td>Sami Bouajila, Tracy Gotoas, Samuel Jouy, Nabi...</td>\n",
       "      <td>NaN</td>\n",
       "      <td>September 24, 2021</td>\n",
       "      <td>2021</td>\n",
       "      <td>TV-MA</td>\n",
       "      <td>1 Season</td>\n",
       "      <td>Crime TV Shows, International TV Shows, TV Act...</td>\n",
       "      <td>To protect his family from a powerful drug lor...</td>\n",
       "    </tr>\n",
       "    <tr>\n",
       "      <th>3</th>\n",
       "      <td>s4</td>\n",
       "      <td>TV Show</td>\n",
       "      <td>Jailbirds New Orleans</td>\n",
       "      <td>NaN</td>\n",
       "      <td>NaN</td>\n",
       "      <td>NaN</td>\n",
       "      <td>September 24, 2021</td>\n",
       "      <td>2021</td>\n",
       "      <td>TV-MA</td>\n",
       "      <td>1 Season</td>\n",
       "      <td>Docuseries, Reality TV</td>\n",
       "      <td>Feuds, flirtations and toilet talk go down amo...</td>\n",
       "    </tr>\n",
       "    <tr>\n",
       "      <th>4</th>\n",
       "      <td>s5</td>\n",
       "      <td>TV Show</td>\n",
       "      <td>Kota Factory</td>\n",
       "      <td>NaN</td>\n",
       "      <td>Mayur More, Jitendra Kumar, Ranjan Raj, Alam K...</td>\n",
       "      <td>India</td>\n",
       "      <td>September 24, 2021</td>\n",
       "      <td>2021</td>\n",
       "      <td>TV-MA</td>\n",
       "      <td>2 Seasons</td>\n",
       "      <td>International TV Shows, Romantic TV Shows, TV ...</td>\n",
       "      <td>In a city of coaching centers known to train I...</td>\n",
       "    </tr>\n",
       "  </tbody>\n",
       "</table>\n",
       "</div>"
      ],
      "text/plain": [
       "  show_id     type                  title         director  \\\n",
       "0      s1    Movie   Dick Johnson Is Dead  Kirsten Johnson   \n",
       "1      s2  TV Show          Blood & Water              NaN   \n",
       "2      s3  TV Show              Ganglands  Julien Leclercq   \n",
       "3      s4  TV Show  Jailbirds New Orleans              NaN   \n",
       "4      s5  TV Show           Kota Factory              NaN   \n",
       "\n",
       "                                                cast        country  \\\n",
       "0                                                NaN  United States   \n",
       "1  Ama Qamata, Khosi Ngema, Gail Mabalane, Thaban...   South Africa   \n",
       "2  Sami Bouajila, Tracy Gotoas, Samuel Jouy, Nabi...            NaN   \n",
       "3                                                NaN            NaN   \n",
       "4  Mayur More, Jitendra Kumar, Ranjan Raj, Alam K...          India   \n",
       "\n",
       "           date_added  release_year rating   duration  \\\n",
       "0  September 25, 2021          2020  PG-13     90 min   \n",
       "1  September 24, 2021          2021  TV-MA  2 Seasons   \n",
       "2  September 24, 2021          2021  TV-MA   1 Season   \n",
       "3  September 24, 2021          2021  TV-MA   1 Season   \n",
       "4  September 24, 2021          2021  TV-MA  2 Seasons   \n",
       "\n",
       "                                           listed_in  \\\n",
       "0                                      Documentaries   \n",
       "1    International TV Shows, TV Dramas, TV Mysteries   \n",
       "2  Crime TV Shows, International TV Shows, TV Act...   \n",
       "3                             Docuseries, Reality TV   \n",
       "4  International TV Shows, Romantic TV Shows, TV ...   \n",
       "\n",
       "                                         description  \n",
       "0  As her father nears the end of his life, filmm...  \n",
       "1  After crossing paths at a party, a Cape Town t...  \n",
       "2  To protect his family from a powerful drug lor...  \n",
       "3  Feuds, flirtations and toilet talk go down amo...  \n",
       "4  In a city of coaching centers known to train I...  "
      ]
     },
     "execution_count": 3,
     "metadata": {},
     "output_type": "execute_result"
    }
   ],
   "source": [
    "df.head()"
   ]
  },
  {
   "cell_type": "code",
   "execution_count": 4,
   "id": "665d720c",
   "metadata": {
    "execution": {
     "iopub.execute_input": "2024-10-20T09:29:48.008142Z",
     "iopub.status.busy": "2024-10-20T09:29:48.007711Z",
     "iopub.status.idle": "2024-10-20T09:29:48.042644Z",
     "shell.execute_reply": "2024-10-20T09:29:48.041287Z"
    },
    "papermill": {
     "duration": 0.045246,
     "end_time": "2024-10-20T09:29:48.045356",
     "exception": false,
     "start_time": "2024-10-20T09:29:48.000110",
     "status": "completed"
    },
    "tags": []
   },
   "outputs": [
    {
     "name": "stdout",
     "output_type": "stream",
     "text": [
      "<class 'pandas.core.frame.DataFrame'>\n",
      "RangeIndex: 8807 entries, 0 to 8806\n",
      "Data columns (total 12 columns):\n",
      " #   Column        Non-Null Count  Dtype \n",
      "---  ------        --------------  ----- \n",
      " 0   show_id       8807 non-null   object\n",
      " 1   type          8807 non-null   object\n",
      " 2   title         8807 non-null   object\n",
      " 3   director      6173 non-null   object\n",
      " 4   cast          7982 non-null   object\n",
      " 5   country       7976 non-null   object\n",
      " 6   date_added    8797 non-null   object\n",
      " 7   release_year  8807 non-null   int64 \n",
      " 8   rating        8803 non-null   object\n",
      " 9   duration      8804 non-null   object\n",
      " 10  listed_in     8807 non-null   object\n",
      " 11  description   8807 non-null   object\n",
      "dtypes: int64(1), object(11)\n",
      "memory usage: 825.8+ KB\n"
     ]
    }
   ],
   "source": [
    "df.info()"
   ]
  },
  {
   "cell_type": "code",
   "execution_count": 5,
   "id": "0308878a",
   "metadata": {
    "execution": {
     "iopub.execute_input": "2024-10-20T09:29:48.059642Z",
     "iopub.status.busy": "2024-10-20T09:29:48.059214Z",
     "iopub.status.idle": "2024-10-20T09:29:48.078087Z",
     "shell.execute_reply": "2024-10-20T09:29:48.076804Z"
    },
    "papermill": {
     "duration": 0.029421,
     "end_time": "2024-10-20T09:29:48.080947",
     "exception": false,
     "start_time": "2024-10-20T09:29:48.051526",
     "status": "completed"
    },
    "tags": []
   },
   "outputs": [
    {
     "data": {
      "text/plain": [
       "show_id          0.000000\n",
       "type             0.000000\n",
       "title            0.000000\n",
       "director        29.908028\n",
       "cast             9.367549\n",
       "country          9.435676\n",
       "date_added       0.113546\n",
       "release_year     0.000000\n",
       "rating           0.045418\n",
       "duration         0.034064\n",
       "listed_in        0.000000\n",
       "description      0.000000\n",
       "dtype: float64"
      ]
     },
     "execution_count": 5,
     "metadata": {},
     "output_type": "execute_result"
    }
   ],
   "source": [
    "# Check percentage of NULL on each column\n",
    "df.isna().sum()/len(df)*100"
   ]
  },
  {
   "cell_type": "code",
   "execution_count": 6,
   "id": "5138b89a",
   "metadata": {
    "execution": {
     "iopub.execute_input": "2024-10-20T09:29:48.095199Z",
     "iopub.status.busy": "2024-10-20T09:29:48.094751Z",
     "iopub.status.idle": "2024-10-20T09:29:48.110545Z",
     "shell.execute_reply": "2024-10-20T09:29:48.109228Z"
    },
    "papermill": {
     "duration": 0.025972,
     "end_time": "2024-10-20T09:29:48.113315",
     "exception": false,
     "start_time": "2024-10-20T09:29:48.087343",
     "status": "completed"
    },
    "tags": []
   },
   "outputs": [],
   "source": [
    "# Let's drop the null rows that has not date_adde\n",
    "df.dropna(subset='date_added', inplace=True)"
   ]
  },
  {
   "cell_type": "code",
   "execution_count": 7,
   "id": "5717fee2",
   "metadata": {
    "execution": {
     "iopub.execute_input": "2024-10-20T09:29:48.127651Z",
     "iopub.status.busy": "2024-10-20T09:29:48.127200Z",
     "iopub.status.idle": "2024-10-20T09:29:48.154071Z",
     "shell.execute_reply": "2024-10-20T09:29:48.152816Z"
    },
    "papermill": {
     "duration": 0.037588,
     "end_time": "2024-10-20T09:29:48.157210",
     "exception": false,
     "start_time": "2024-10-20T09:29:48.119622",
     "status": "completed"
    },
    "tags": []
   },
   "outputs": [
    {
     "data": {
      "text/plain": [
       "0"
      ]
     },
     "execution_count": 7,
     "metadata": {},
     "output_type": "execute_result"
    }
   ],
   "source": [
    "# Check duplication\n",
    "df.duplicated().sum()"
   ]
  },
  {
   "cell_type": "code",
   "execution_count": 8,
   "id": "a8070734",
   "metadata": {
    "execution": {
     "iopub.execute_input": "2024-10-20T09:29:48.171618Z",
     "iopub.status.busy": "2024-10-20T09:29:48.171167Z",
     "iopub.status.idle": "2024-10-20T09:29:48.180018Z",
     "shell.execute_reply": "2024-10-20T09:29:48.178845Z"
    },
    "papermill": {
     "duration": 0.019284,
     "end_time": "2024-10-20T09:29:48.182727",
     "exception": false,
     "start_time": "2024-10-20T09:29:48.163443",
     "status": "completed"
    },
    "tags": []
   },
   "outputs": [],
   "source": [
    "df['date_added'] = df['date_added'].str.strip()"
   ]
  },
  {
   "cell_type": "code",
   "execution_count": 9,
   "id": "03838df0",
   "metadata": {
    "execution": {
     "iopub.execute_input": "2024-10-20T09:29:48.196968Z",
     "iopub.status.busy": "2024-10-20T09:29:48.196478Z",
     "iopub.status.idle": "2024-10-20T09:29:48.215282Z",
     "shell.execute_reply": "2024-10-20T09:29:48.214083Z"
    },
    "papermill": {
     "duration": 0.029015,
     "end_time": "2024-10-20T09:29:48.218010",
     "exception": false,
     "start_time": "2024-10-20T09:29:48.188995",
     "status": "completed"
    },
    "tags": []
   },
   "outputs": [],
   "source": [
    "# Change date_added to datetime format\n",
    "df['date_added'] = pd.to_datetime(df['date_added'], format='%B %d, %Y')"
   ]
  },
  {
   "cell_type": "code",
   "execution_count": 10,
   "id": "7fb13d06",
   "metadata": {
    "execution": {
     "iopub.execute_input": "2024-10-20T09:29:48.232239Z",
     "iopub.status.busy": "2024-10-20T09:29:48.231836Z",
     "iopub.status.idle": "2024-10-20T09:29:48.240662Z",
     "shell.execute_reply": "2024-10-20T09:29:48.239405Z"
    },
    "papermill": {
     "duration": 0.0189,
     "end_time": "2024-10-20T09:29:48.243192",
     "exception": false,
     "start_time": "2024-10-20T09:29:48.224292",
     "status": "completed"
    },
    "tags": []
   },
   "outputs": [
    {
     "data": {
      "text/plain": [
       "show_id                 object\n",
       "type                    object\n",
       "title                   object\n",
       "director                object\n",
       "cast                    object\n",
       "country                 object\n",
       "date_added      datetime64[ns]\n",
       "release_year             int64\n",
       "rating                  object\n",
       "duration                object\n",
       "listed_in               object\n",
       "description             object\n",
       "dtype: object"
      ]
     },
     "execution_count": 10,
     "metadata": {},
     "output_type": "execute_result"
    }
   ],
   "source": [
    "df.dtypes"
   ]
  },
  {
   "cell_type": "code",
   "execution_count": 11,
   "id": "ddeded0a",
   "metadata": {
    "execution": {
     "iopub.execute_input": "2024-10-20T09:29:48.258025Z",
     "iopub.status.busy": "2024-10-20T09:29:48.257521Z",
     "iopub.status.idle": "2024-10-20T09:29:48.266557Z",
     "shell.execute_reply": "2024-10-20T09:29:48.264638Z"
    },
    "papermill": {
     "duration": 0.020248,
     "end_time": "2024-10-20T09:29:48.270000",
     "exception": false,
     "start_time": "2024-10-20T09:29:48.249752",
     "status": "completed"
    },
    "tags": []
   },
   "outputs": [],
   "source": [
    "# create new column to see how long from movie release to be added to Netflix platform\n",
    "df['release_to_added'] = df['date_added'].dt.year - df['release_year']"
   ]
  },
  {
   "cell_type": "markdown",
   "id": "58669662",
   "metadata": {
    "papermill": {
     "duration": 0.006275,
     "end_time": "2024-10-20T09:29:48.283234",
     "exception": false,
     "start_time": "2024-10-20T09:29:48.276959",
     "status": "completed"
    },
    "tags": []
   },
   "source": [
    "# Analysis"
   ]
  },
  {
   "cell_type": "markdown",
   "id": "9129ebef",
   "metadata": {
    "papermill": {
     "duration": 0.006667,
     "end_time": "2024-10-20T09:29:48.297478",
     "exception": false,
     "start_time": "2024-10-20T09:29:48.290811",
     "status": "completed"
    },
    "tags": []
   },
   "source": [
    "**How is the trend of movies/series released?**"
   ]
  },
  {
   "cell_type": "markdown",
   "id": "f9681442",
   "metadata": {
    "papermill": {
     "duration": 0.006038,
     "end_time": "2024-10-20T09:29:48.310191",
     "exception": false,
     "start_time": "2024-10-20T09:29:48.304153",
     "status": "completed"
    },
    "tags": []
   },
   "source": [
    "*Netflix was founded by Marc Randolph and Reed Hastings on **August 29, 1997**, in Scotts Valley, California. Hastings, a computer scientist and mathematician, was a co-founder of Pure Software, which was acquired by Rational Software that year for $750 million, the then biggest acquisition in Silicon Valley history. (Wikipedia)*"
   ]
  },
  {
   "cell_type": "code",
   "execution_count": 12,
   "id": "add6999d",
   "metadata": {
    "execution": {
     "iopub.execute_input": "2024-10-20T09:29:48.325217Z",
     "iopub.status.busy": "2024-10-20T09:29:48.324740Z",
     "iopub.status.idle": "2024-10-20T09:29:49.131865Z",
     "shell.execute_reply": "2024-10-20T09:29:49.130702Z"
    },
    "papermill": {
     "duration": 0.818352,
     "end_time": "2024-10-20T09:29:49.134800",
     "exception": false,
     "start_time": "2024-10-20T09:29:48.316448",
     "status": "completed"
    },
    "tags": []
   },
   "outputs": [
    {
     "data": {
      "image/png": "[encoded data removed]",
      "text/plain": [
       "<Figure size 1200x500 with 1 Axes>"
      ]
     },
     "metadata": {},
     "output_type": "display_data"
    }
   ],
   "source": [
    "fig, ax = plt.subplots(figsize=(12, 5))\n",
    "\n",
    "sns.countplot(x=df['release_year'], ax=ax)\n",
    "plt.xticks(rotation=90)\n",
    "\n",
    "# Get the unique years from the x-axis in sorted order\n",
    "unique_years = sorted(df['release_year'].unique())\n",
    "\n",
    "# Find the position of 1997\n",
    "if 1997 in unique_years:\n",
    "    idx_1997 = unique_years.index(1997)\n",
    "\n",
    "    # Annotate the year 1997 with an arrow and a note\n",
    "    ax.annotate('Netflix was founded', \n",
    "                xy=(idx_1997, df['release_year'].value_counts()[1997]),  # position of the annotation (year 1997, its count)\n",
    "                xytext=(idx_1997 + 5, df['release_year'].value_counts().max() + 5),  # position of the text\n",
    "                arrowprops=dict(facecolor='gray', shrink=0.05), \n",
    "                fontsize=12, color='black')\n",
    "\n",
    "plt.show()"
   ]
  },
  {
   "cell_type": "markdown",
   "id": "4fccbf6e",
   "metadata": {
    "papermill": {
     "duration": 0.006629,
     "end_time": "2024-10-20T09:29:49.148684",
     "exception": false,
     "start_time": "2024-10-20T09:29:49.142055",
     "status": "completed"
    },
    "tags": []
   },
   "source": [
    "**The number of movie releases has steadily risen since Netflix was founded, with a sharp exponential growth starting in 2008, reaching its peak in 2018.**"
   ]
  },
  {
   "cell_type": "code",
   "execution_count": 13,
   "id": "a800a63c",
   "metadata": {
    "execution": {
     "iopub.execute_input": "2024-10-20T09:29:49.164331Z",
     "iopub.status.busy": "2024-10-20T09:29:49.163927Z",
     "iopub.status.idle": "2024-10-20T09:29:49.439277Z",
     "shell.execute_reply": "2024-10-20T09:29:49.437949Z"
    },
    "papermill": {
     "duration": 0.28644,
     "end_time": "2024-10-20T09:29:49.441920",
     "exception": false,
     "start_time": "2024-10-20T09:29:49.155480",
     "status": "completed"
    },
    "tags": []
   },
   "outputs": [
    {
     "data": {
      "image/png": "[encoded data removed]",
      "text/plain": [
       "<Figure size 1200x500 with 1 Axes>"
      ]
     },
     "metadata": {},
     "output_type": "display_data"
    }
   ],
   "source": [
    "fig, ax = plt.subplots(figsize=(12, 5))\n",
    "\n",
    "sns.countplot(x=df['date_added'].dt.year.astype(int), ax=ax)\n",
    "plt.xticks(rotation=90)\n",
    "plt.show()"
   ]
  },
  {
   "cell_type": "markdown",
   "id": "f6830ad7",
   "metadata": {
    "papermill": {
     "duration": 0.007573,
     "end_time": "2024-10-20T09:29:49.457775",
     "exception": false,
     "start_time": "2024-10-20T09:29:49.450202",
     "status": "completed"
    },
    "tags": []
   },
   "source": [
    "**Beginning in 2016, Netflix began to expand its selection of movies and series available on their platform**"
   ]
  },
  {
   "cell_type": "markdown",
   "id": "194087fc",
   "metadata": {
    "papermill": {
     "duration": 0.007158,
     "end_time": "2024-10-20T09:29:49.473090",
     "exception": false,
     "start_time": "2024-10-20T09:29:49.465932",
     "status": "completed"
    },
    "tags": []
   },
   "source": [
    "**Which Country has most released?**"
   ]
  },
  {
   "cell_type": "code",
   "execution_count": null,
   "id": "c6dbdd25",
   "metadata": {
    "papermill": {
     "duration": 0.007043,
     "end_time": "2024-10-20T09:29:49.488014",
     "exception": false,
     "start_time": "2024-10-20T09:29:49.480971",
     "status": "completed"
    },
    "tags": []
   },
   "outputs": [],
   "source": []
  }
 ],
 "metadata": {
  "kaggle": {
   "accelerator": "none",
   "dataSources": [
    {
     "datasetId": 434238,
     "sourceId": 2654038,
     "sourceType": "datasetVersion"
    }
   ],
   "dockerImageVersionId": 30786,
   "isGpuEnabled": false,
   "isInternetEnabled": false,
   "language": "python",
   "sourceType": "notebook"
  },
  "kernelspec": {
   "display_name": "Python 3",
   "language": "python",
   "name": "python3"
  },
  "language_info": {
   "codemirror_mode": {
    "name": "ipython",
    "version": 3
   },
   "file_extension": ".py",
   "mimetype": "text/x-python",
   "name": "python",
   "nbconvert_exporter": "python",
   "pygments_lexer": "ipython3",
   "version": "3.10.14"
  },
  "papermill": {
   "default_parameters": {},
   "duration": 7.994031,
   "end_time": "2024-10-20T09:29:50.118137",
   "environment_variables": {},
   "exception": null,
   "input_path": "__notebook__.ipynb",
   "output_path": "__notebook__.ipynb",
   "parameters": {},
   "start_time": "2024-10-20T09:29:42.124106",
   "version": "2.6.0"
  }
 },
 "nbformat": 4,
 "nbformat_minor": 5
}
